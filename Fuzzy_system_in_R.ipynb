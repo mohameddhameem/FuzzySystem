{
  "nbformat": 4,
  "nbformat_minor": 0,
  "metadata": {
    "kernelspec": {
      "display_name": "R",
      "language": "R",
      "name": "ir"
    },
    "language_info": {
      "codemirror_mode": "r",
      "file_extension": ".r",
      "mimetype": "text/x-r-source",
      "name": "R",
      "pygments_lexer": "r",
      "version": "3.3.1"
    },
    "colab": {
      "name": "Fuzzy system in R.ipynb",
      "version": "0.3.2",
      "provenance": [],
      "collapsed_sections": []
    }
  },
  "cells": [
    {
      "cell_type": "markdown",
      "metadata": {
        "id": "3pzWZ17shcqm",
        "colab_type": "text"
      },
      "source": [
        "#Fuzzy system in R\n",
        "Key reference: http://juandes.github.io/FuzzyLogic-R/docs/fuzzy_tutorial"
      ]
    },
    {
      "cell_type": "code",
      "metadata": {
        "id": "J_9daQkxhcqq",
        "colab_type": "code",
        "outputId": "567b46ab-03e1-476f-b843-28ece6020536",
        "colab": {
          "base_uri": "https://localhost:8080/",
          "height": 51
        }
      },
      "source": [
        "install.packages(\"sets\")"
      ],
      "execution_count": 0,
      "outputs": [
        {
          "output_type": "stream",
          "text": [
            "Installing package into ‘/usr/local/lib/R/site-library’\n",
            "(as ‘lib’ is unspecified)\n"
          ],
          "name": "stderr"
        }
      ]
    },
    {
      "cell_type": "code",
      "metadata": {
        "id": "b9T1xwpRhcqy",
        "colab_type": "code",
        "colab": {}
      },
      "source": [
        "library(sets)"
      ],
      "execution_count": 0,
      "outputs": []
    },
    {
      "cell_type": "code",
      "metadata": {
        "id": "K46Etwoqhcq7",
        "colab_type": "code",
        "colab": {}
      },
      "source": [
        "## Set the range (universe) for fuzzy set\n",
        "sets_options(\"universe\", seq(from=0,to=100, by=1))"
      ],
      "execution_count": 0,
      "outputs": []
    },
    {
      "cell_type": "code",
      "metadata": {
        "id": "3nkkQNTOiGHf",
        "colab_type": "code",
        "outputId": "843a9d08-62d4-4c3a-d858-5a9033dc36e3",
        "colab": {
          "base_uri": "https://localhost:8080/",
          "height": 85
        }
      },
      "source": [
        "## Fuzzy set\n",
        "variables=set(Content_Quality = fuzzy_variable(\n",
        " C_low =fuzzy_trapezoid(corners = c(-20, 0, 25, 54)),\n",
        " C_medium =fuzzy_trapezoid(corners = c(30, 54, 54, 80)),\n",
        " C_high=fuzzy_trapezoid(corners = c(45, 75, 100, 120))),\n",
        "               \n",
        "Presentation_Quality = fuzzy_variable(\n",
        "  P_low = fuzzy_trapezoid(corners = c(-20, 0, 30, 50)),\n",
        "  P_medium = fuzzy_trapezoid(corners = c(30, 50, 50, 80)),\n",
        "  P_high=fuzzy_trapezoid(corners = c(50, 80, 100, 120))),\n",
        "\n",
        "Teaching_Quality = fuzzy_variable\n",
        "(T_low = fuzzy_trapezoid(corners = c(-20, 0, 25, 55)),\n",
        "T_medium = fuzzy_trapezoid(corners = c(30, 55, 55, 80)),\n",
        "T_high=fuzzy_trapezoid(corners = c(55, 85, 100, 120)))\n",
        ")"
      ],
      "execution_count": 0,
      "outputs": [
        {
          "output_type": "stream",
          "text": [
            "Warning message in regularize.values(x, y, ties, missing(ties)):\n",
            "“collapsing to unique 'x' values”Warning message in regularize.values(x, y, ties, missing(ties)):\n",
            "“collapsing to unique 'x' values”Warning message in regularize.values(x, y, ties, missing(ties)):\n",
            "“collapsing to unique 'x' values”"
          ],
          "name": "stderr"
        }
      ]
    },
    {
      "cell_type": "code",
      "metadata": {
        "id": "4IcCT4c2id6z",
        "colab_type": "code",
        "colab": {}
      },
      "source": [
        "## Fuzzy rule\n",
        "rules=set(fuzzy_rule(Content_Quality%is%C_low||Presentation_Quality%is%P_low, Teaching_Quality%is%T_low),\n",
        "          fuzzy_rule(Content_Quality%is%C_medium &&Presentation_Quality%is%P_medium, Teaching_Quality%is%T_medium),\n",
        "          fuzzy_rule(Content_Quality%is%C_high &&Presentation_Quality%is%P_high, Teaching_Quality%is%T_high))\n"
      ],
      "execution_count": 0,
      "outputs": []
    },
    {
      "cell_type": "code",
      "metadata": {
        "id": "1o6Vhh1Hilg1",
        "colab_type": "code",
        "outputId": "82d16ece-6781-4afd-a39f-e9eaee1456b1",
        "colab": {
          "base_uri": "https://localhost:8080/",
          "height": 1000
        }
      },
      "source": [
        "## Visualize set and rule\n",
        "\n",
        "system=fuzzy_system(variables, rules)\n",
        "print(system)\n",
        "plot(system)\n"
      ],
      "execution_count": 0,
      "outputs": [
        {
          "output_type": "stream",
          "text": [
            "A fuzzy system consisting of 3 variables and 3 rules.\n",
            "\n",
            "Variables:\n",
            "\n",
            "Presentation_Quality(P_low, P_medium, P_high)\n",
            "Content_Quality(C_low, C_medium, C_high)\n",
            "Teaching_Quality(T_low, T_medium, T_high)\n",
            "\n",
            "Rules:\n",
            "\n",
            "Content_Quality %is% C_high && Presentation_Quality %is% P_high => Teaching_Quality %is% T_high\n",
            "Content_Quality %is% C_medium && Presentation_Quality %is% P_medium => Teaching_Quality %is% T_medium\n",
            "Content_Quality %is% C_low || Presentation_Quality %is% P_low => Teaching_Quality %is% T_low\n"
          ],
          "name": "stdout"
        },
        {
          "output_type": "display_data",
          "data": {
            "image/png": "[encoded data removed]",
            "text/plain": [
              "Plot with title “Teaching_Quality”"
            ]
          },
          "metadata": {
            "tags": []
          }
        }
      ]
    },
    {
      "cell_type": "code",
      "metadata": {
        "id": "ThxqU1JHiqAu",
        "colab_type": "code",
        "outputId": "9eafca66-f11f-4e97-c776-ca702f1156ca",
        "colab": {
          "base_uri": "https://localhost:8080/",
          "height": 857
        }
      },
      "source": [
        "## Fuzzy inference\n",
        "fi=fuzzy_inference(system,list(Content_Quality=50, Presentation_Quality=54))\n",
        "\n",
        "plot(fi)"
      ],
      "execution_count": 0,
      "outputs": [
        {
          "output_type": "display_data",
          "data": {
            "image/png": "[encoded data removed]",
            "text/plain": [
              "plot without title"
            ]
          },
          "metadata": {
            "tags": []
          }
        }
      ]
    },
    {
      "cell_type": "code",
      "metadata": {
        "id": "60tOhLV5kGeF",
        "colab_type": "code",
        "outputId": "447af112-8a02-4f3a-bec0-1ba0d645f5cc",
        "colab": {
          "base_uri": "https://localhost:8080/",
          "height": 34
        }
      },
      "source": [
        "## Result\n",
        "gset_defuzzify(fi,'centroid')"
      ],
      "execution_count": 0,
      "outputs": [
        {
          "output_type": "display_data",
          "data": {
            "text/plain": [
              "[1] 52.68677"
            ],
            "text/latex": "52.6867700471955",
            "text/markdown": "52.6867700471955",
            "text/html": [
              "52.6867700471955"
            ]
          },
          "metadata": {
            "tags": []
          }
        }
      ]
    },
    {
      "cell_type": "code",
      "metadata": {
        "id": "wwGy4K0hkSjt",
        "colab_type": "code",
        "outputId": "da398eff-605b-4eb3-bd28-02e78bf377d2",
        "colab": {
          "base_uri": "https://localhost:8080/",
          "height": 34
        }
      },
      "source": [
        "gset_defuzzify(fi,'meanofmax')"
      ],
      "execution_count": 0,
      "outputs": [
        {
          "output_type": "display_data",
          "data": {
            "text/plain": [
              "[1] 55"
            ],
            "text/latex": "55",
            "text/markdown": "55",
            "text/html": [
              "55"
            ]
          },
          "metadata": {
            "tags": []
          }
        }
      ]
    },
    {
      "cell_type": "code",
      "metadata": {
        "id": "JAlMnE4mkWo0",
        "colab_type": "code",
        "outputId": "0e68da82-9f13-4b93-a5d8-1eb518ab85dd",
        "colab": {
          "base_uri": "https://localhost:8080/",
          "height": 34
        }
      },
      "source": [
        "gset_defuzzify(fi,'smallestofmax')"
      ],
      "execution_count": 0,
      "outputs": [
        {
          "output_type": "display_data",
          "data": {
            "text/plain": [
              "[1] 51"
            ],
            "text/latex": "51",
            "text/markdown": "51",
            "text/html": [
              "51"
            ]
          },
          "metadata": {
            "tags": []
          }
        }
      ]
    },
    {
      "cell_type": "code",
      "metadata": {
        "id": "vnJcWil7kdhI",
        "colab_type": "code",
        "outputId": "16592f66-bfdd-40e0-aa4d-e4db4bc7d056",
        "colab": {
          "base_uri": "https://localhost:8080/",
          "height": 34
        }
      },
      "source": [
        "gset_defuzzify(fi,'largestofmax')"
      ],
      "execution_count": 0,
      "outputs": [
        {
          "output_type": "display_data",
          "data": {
            "text/plain": [
              "[1] 59"
            ],
            "text/latex": "59",
            "text/markdown": "59",
            "text/html": [
              "59"
            ]
          },
          "metadata": {
            "tags": []
          }
        }
      ]
    },
    {
      "cell_type": "code",
      "metadata": {
        "id": "w5UPgUEIkeQx",
        "colab_type": "code",
        "outputId": "bafeb6a0-da38-47e7-9f1c-3718ee5534db",
        "colab": {
          "base_uri": "https://localhost:8080/",
          "height": 34
        }
      },
      "source": [
        "gset_defuzzify(fi,'centroid')"
      ],
      "execution_count": 0,
      "outputs": [
        {
          "output_type": "display_data",
          "data": {
            "text/plain": [
              "[1] 52.68677"
            ],
            "text/latex": "52.6867700471955",
            "text/markdown": "52.6867700471955",
            "text/html": [
              "52.6867700471955"
            ]
          },
          "metadata": {
            "tags": []
          }
        }
      ]
    },
    {
      "cell_type": "code",
      "metadata": {
        "id": "aK8GYipTklr1",
        "colab_type": "code",
        "colab": {}
      },
      "source": [
        ""
      ],
      "execution_count": 0,
      "outputs": []
    }
  ]
}