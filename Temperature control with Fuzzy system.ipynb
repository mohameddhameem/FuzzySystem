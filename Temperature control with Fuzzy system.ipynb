{
 "cells": [
  {
   "cell_type": "code",
   "execution_count": 1,
   "metadata": {},
   "outputs": [],
   "source": [
    "import numpy as np\n",
    "import skfuzzy as fuzz"
   ]
  },
  {
   "cell_type": "code",
   "execution_count": 2,
   "metadata": {},
   "outputs": [],
   "source": [
    "CURRENT_TEMP = 15\n",
    "CURRENT_HUM = 50\n",
    " \n",
    "x_temp = np.arange(-20, 41, 1)\n",
    "x_hum = np.arange(0, 101, 1)\n",
    "x_sys = np.arange(12, 36, 1)"
   ]
  },
  {
   "cell_type": "code",
   "execution_count": 5,
   "metadata": {},
   "outputs": [
    {
     "data": {
      "text/plain": [
       "array([12, 13, 14, 15, 16, 17, 18, 19, 20, 21, 22, 23, 24, 25, 26, 27, 28,\n",
       "       29, 30, 31, 32, 33, 34, 35])"
      ]
     },
     "execution_count": 5,
     "metadata": {},
     "output_type": "execute_result"
    }
   ],
   "source": [
    "x_sys"
   ]
  },
  {
   "cell_type": "code",
   "execution_count": 7,
   "metadata": {},
   "outputs": [
    {
     "name": "stdout",
     "output_type": "stream",
     "text": [
      "temp_lo: [1.   0.96 0.92 0.88 0.84 0.8  0.76 0.72 0.68 0.64 0.6  0.56 0.52 0.48\n",
      " 0.44 0.4  0.36 0.32 0.28 0.24 0.2  0.16 0.12 0.08 0.04 0.   0.   0.\n",
      " 0.   0.   0.   0.   0.   0.   0.   0.   0.   0.   0.   0.   0.   0.\n",
      " 0.   0.   0.   0.   0.   0.   0.   0.   0.   0.   0.   0.   0.   0.\n",
      " 0.   0.   0.   0.   0.  ]\n"
     ]
    }
   ],
   "source": [
    "# Generate fuzzy membership functions\n",
    "temp_lo = fuzz.trimf(x_temp, [-20, -20, 5])\n",
    "print(\"temp_lo: \" + str(temp_lo))"
   ]
  },
  {
   "cell_type": "code",
   "execution_count": 8,
   "metadata": {},
   "outputs": [
    {
     "name": "stdout",
     "output_type": "stream",
     "text": [
      "temp_md: [0.  0.  0.  0.  0.  0.  0.  0.  0.  0.  0.  0.  0.  0.  0.  0.  0.  0.\n",
      " 0.  0.  0.  0.1 0.2 0.3 0.4 0.5 0.6 0.7 0.8 0.9 1.  0.9 0.8 0.7 0.6 0.5\n",
      " 0.4 0.3 0.2 0.1 0.  0.  0.  0.  0.  0.  0.  0.  0.  0.  0.  0.  0.  0.\n",
      " 0.  0.  0.  0.  0.  0.  0. ]\n"
     ]
    }
   ],
   "source": [
    "temp_md = fuzz.trimf(x_temp, [0, 10, 20])\n",
    "print(\"temp_md: \" + str(temp_md))"
   ]
  },
  {
   "cell_type": "code",
   "execution_count": 9,
   "metadata": {},
   "outputs": [
    {
     "name": "stdout",
     "output_type": "stream",
     "text": [
      "temp_hi: [0.   0.   0.   0.   0.   0.   0.   0.   0.   0.   0.   0.   0.   0.\n",
      " 0.   0.   0.   0.   0.   0.   0.   0.   0.   0.   0.   0.   0.   0.\n",
      " 0.   0.   0.   0.   0.   0.   0.   0.   0.04 0.08 0.12 0.16 0.2  0.24\n",
      " 0.28 0.32 0.36 0.4  0.44 0.48 0.52 0.56 0.6  0.64 0.68 0.72 0.76 0.8\n",
      " 0.84 0.88 0.92 0.96 1.  ]\n"
     ]
    }
   ],
   "source": [
    "temp_hi = fuzz.trimf(x_temp, [15, 40, 40])\n",
    "print(\"temp_hi: \" + str(temp_hi))"
   ]
  },
  {
   "cell_type": "code",
   "execution_count": 11,
   "metadata": {},
   "outputs": [
    {
     "name": "stdout",
     "output_type": "stream",
     "text": [
      "hum_lo: [1.   0.98 0.96 0.94 0.92 0.9  0.88 0.86 0.84 0.82 0.8  0.78 0.76 0.74\n",
      " 0.72 0.7  0.68 0.66 0.64 0.62 0.6  0.58 0.56 0.54 0.52 0.5  0.48 0.46\n",
      " 0.44 0.42 0.4  0.38 0.36 0.34 0.32 0.3  0.28 0.26 0.24 0.22 0.2  0.18\n",
      " 0.16 0.14 0.12 0.1  0.08 0.06 0.04 0.02 0.   0.   0.   0.   0.   0.\n",
      " 0.   0.   0.   0.   0.   0.   0.   0.   0.   0.   0.   0.   0.   0.\n",
      " 0.   0.   0.   0.   0.   0.   0.   0.   0.   0.   0.   0.   0.   0.\n",
      " 0.   0.   0.   0.   0.   0.   0.   0.   0.   0.   0.   0.   0.   0.\n",
      " 0.   0.   0.  ]\n",
      "hum_md: [0.         0.         0.         0.         0.         0.\n",
      " 0.         0.         0.         0.         0.         0.\n",
      " 0.         0.         0.         0.         0.         0.\n",
      " 0.         0.         0.         0.         0.         0.\n",
      " 0.         0.         0.         0.         0.         0.\n",
      " 0.         0.06666667 0.13333333 0.2        0.26666667 0.33333333\n",
      " 0.4        0.46666667 0.53333333 0.6        0.66666667 0.73333333\n",
      " 0.8        0.86666667 0.93333333 1.         0.93333333 0.86666667\n",
      " 0.8        0.73333333 0.66666667 0.6        0.53333333 0.46666667\n",
      " 0.4        0.33333333 0.26666667 0.2        0.13333333 0.06666667\n",
      " 0.         0.         0.         0.         0.         0.\n",
      " 0.         0.         0.         0.         0.         0.\n",
      " 0.         0.         0.         0.         0.         0.\n",
      " 0.         0.         0.         0.         0.         0.\n",
      " 0.         0.         0.         0.         0.         0.\n",
      " 0.         0.         0.         0.         0.         0.\n",
      " 0.         0.         0.         0.         0.        ]\n",
      "hum_hi: [0.         0.         0.         0.         0.         0.\n",
      " 0.         0.         0.         0.         0.         0.\n",
      " 0.         0.         0.         0.         0.         0.\n",
      " 0.         0.         0.         0.         0.         0.\n",
      " 0.         0.         0.         0.         0.         0.\n",
      " 0.         0.         0.         0.         0.         0.\n",
      " 0.         0.         0.         0.         0.         0.\n",
      " 0.         0.         0.         0.         0.         0.\n",
      " 0.         0.         0.         0.         0.         0.\n",
      " 0.         0.         0.02222222 0.04444444 0.06666667 0.08888889\n",
      " 0.11111111 0.13333333 0.15555556 0.17777778 0.2        0.22222222\n",
      " 0.24444444 0.26666667 0.28888889 0.31111111 0.33333333 0.35555556\n",
      " 0.37777778 0.4        0.42222222 0.44444444 0.46666667 0.48888889\n",
      " 0.51111111 0.53333333 0.55555556 0.57777778 0.6        0.62222222\n",
      " 0.64444444 0.66666667 0.68888889 0.71111111 0.73333333 0.75555556\n",
      " 0.77777778 0.8        0.82222222 0.84444444 0.86666667 0.88888889\n",
      " 0.91111111 0.93333333 0.95555556 0.97777778 1.        ]\n"
     ]
    }
   ],
   "source": [
    "hum_lo = fuzz.trimf(x_hum, [0, 0, 50])\n",
    "print(\"hum_lo: \" + str(hum_lo))\n",
    "hum_md = fuzz.trimf(x_hum, [30, 45, 60])\n",
    "print(\"hum_md: \" + str(hum_md))\n",
    "hum_hi = fuzz.trimf(x_hum, [55, 100, 100])\n",
    "print(\"hum_hi: \" + str(hum_hi))"
   ]
  },
  {
   "cell_type": "code",
   "execution_count": 12,
   "metadata": {},
   "outputs": [
    {
     "name": "stdout",
     "output_type": "stream",
     "text": [
      "sys_cool2: [1.         0.66666667 0.33333333 0.         0.         0.\n",
      " 0.         0.         0.         0.         0.         0.\n",
      " 0.         0.         0.         0.         0.         0.\n",
      " 0.         0.         0.         0.         0.         0.        ]\n",
      "sys_cool1: [0.         0.         0.         0.66666667 0.66666667 0.\n",
      " 0.         0.         0.         0.         0.         0.\n",
      " 0.         0.         0.         0.         0.         0.\n",
      " 0.         0.         0.         0.         0.         0.        ]\n",
      "sys_off: [0.  0.  0.  0.  0.  0.4 0.8 0.8 0.4 0.  0.  0.  0.  0.  0.  0.  0.  0.\n",
      " 0.  0.  0.  0.  0.  0. ]\n",
      "sys_heat1: [0.   0.   0.   0.   0.   0.   0.   0.   0.   0.25 0.5  0.75 1.   0.75\n",
      " 0.5  0.25 0.   0.   0.   0.   0.   0.   0.   0.  ]\n",
      "sys_heat2: [0.         0.         0.         0.         0.         0.\n",
      " 0.         0.         0.         0.         0.         0.\n",
      " 0.         0.         0.         0.11111111 0.22222222 0.33333333\n",
      " 0.44444444 0.55555556 0.66666667 0.77777778 0.88888889 1.        ]\n"
     ]
    }
   ],
   "source": [
    "sys_cool2 = fuzz.trimf(x_sys, [12, 12, 15])\n",
    "print(\"sys_cool2: \" + str(sys_cool2))\n",
    "sys_cool1 = fuzz.trimf(x_sys, [14, 15.5, 17])\n",
    "print(\"sys_cool1: \" + str(sys_cool1))\n",
    "sys_off = fuzz.trimf(x_sys, [16, 18.5, 21])\n",
    "print(\"sys_off: \" + str(sys_off))\n",
    "sys_heat1 = fuzz.trimf(x_sys, [20, 24, 28])\n",
    "print(\"sys_heat1: \" + str(sys_heat1))\n",
    "sys_heat2 = fuzz.trimf(x_sys, [26, 35, 35])\n",
    "print(\"sys_heat2: \" + str(sys_heat2))"
   ]
  },
  {
   "cell_type": "code",
   "execution_count": 13,
   "metadata": {},
   "outputs": [
    {
     "name": "stdout",
     "output_type": "stream",
     "text": [
      "temp_level_lo: 0.0\n",
      "temp_level_md: 0.5\n",
      "temp_level_hi: 0.0\n"
     ]
    }
   ],
   "source": [
    "# We need the activation of our fuzzy membership functions at these values.\n",
    "# The exact values temp=36 and hum=7.2 do not exist on our universes...\n",
    "# This is what fuzz.interp_membership exists for!\n",
    "temp_level_lo = fuzz.interp_membership(x_temp, temp_lo, CURRENT_TEMP)\n",
    "print(\"temp_level_lo: \" + str(temp_level_lo))\n",
    "temp_level_md = fuzz.interp_membership(x_temp, temp_md, CURRENT_TEMP)\n",
    "print(\"temp_level_md: \" + str(temp_level_md))\n",
    "temp_level_hi = fuzz.interp_membership(x_temp, temp_hi, CURRENT_TEMP)\n",
    "print(\"temp_level_hi: \" + str(temp_level_hi))"
   ]
  },
  {
   "cell_type": "code",
   "execution_count": 14,
   "metadata": {},
   "outputs": [
    {
     "name": "stdout",
     "output_type": "stream",
     "text": [
      "hum_level_lo: 0.0\n",
      "hum_level_md: 0.6666666666666666\n",
      "hum_level_hi: 0.0\n"
     ]
    }
   ],
   "source": [
    "hum_level_lo = fuzz.interp_membership(x_hum, hum_lo, CURRENT_HUM)\n",
    "print(\"hum_level_lo: \" + str(hum_level_lo))\n",
    "hum_level_md = fuzz.interp_membership(x_hum, hum_md, CURRENT_HUM)\n",
    "print(\"hum_level_md: \" + str(hum_level_md))\n",
    "hum_level_hi = fuzz.interp_membership(x_hum, hum_hi, CURRENT_HUM)\n",
    "print(\"hum_level_hi: \" + str(hum_level_hi))"
   ]
  },
  {
   "cell_type": "code",
   "execution_count": 15,
   "metadata": {},
   "outputs": [
    {
     "name": "stdout",
     "output_type": "stream",
     "text": [
      "\n",
      "active_rule1: 0.0\n",
      "sys_activation_heat2: [0. 0. 0. 0. 0. 0. 0. 0. 0. 0. 0. 0. 0. 0. 0. 0. 0. 0. 0. 0. 0. 0. 0. 0.]\n"
     ]
    }
   ],
   "source": [
    "results = dict()\n",
    " \n",
    "# Now we take our rules and apply them.\n",
    "# Rule 1: temp_lo -> heat2\n",
    "sys_activation_heat2 = np.fmin(temp_level_lo, sys_heat2)\n",
    "active_rule1 = temp_level_lo\n",
    "print(\"\\nactive_rule1: \" + str(active_rule1))\n",
    "print(\"sys_activation_heat2: \" + str(sys_activation_heat2))\n",
    "results['active_rule1'] = active_rule1"
   ]
  },
  {
   "cell_type": "code",
   "execution_count": 18,
   "metadata": {},
   "outputs": [
    {
     "name": "stdout",
     "output_type": "stream",
     "text": [
      "active_rule2: 0.0\n"
     ]
    }
   ],
   "source": [
    "# Rule 2: temp_md & hum_hi -> heat1\n",
    "active_rule2 = np.fmin(temp_level_md, hum_level_hi)\n",
    "print(\"active_rule2: \" + str(active_rule2))"
   ]
  },
  {
   "cell_type": "code",
   "execution_count": 19,
   "metadata": {},
   "outputs": [
    {
     "name": "stdout",
     "output_type": "stream",
     "text": [
      "sys_activation_heat1: [0. 0. 0. 0. 0. 0. 0. 0. 0. 0. 0. 0. 0. 0. 0. 0. 0. 0. 0. 0. 0. 0. 0. 0.]\n"
     ]
    }
   ],
   "source": [
    "sys_activation_heat1 = np.fmin(active_rule2, sys_heat1)\n",
    "print(\"sys_activation_heat1: \" + str(sys_activation_heat1))\n",
    "results['active_rule2'] = active_rule2"
   ]
  },
  {
   "cell_type": "code",
   "execution_count": 20,
   "metadata": {},
   "outputs": [
    {
     "name": "stdout",
     "output_type": "stream",
     "text": [
      "\n",
      "hum_combined: 0.6666666666666666\n",
      "active_rule3: 0.5\n",
      "sys_activation_off: [0.  0.  0.  0.  0.  0.4 0.5 0.5 0.4 0.  0.  0.  0.  0.  0.  0.  0.  0.\n",
      " 0.  0.  0.  0.  0.  0. ]\n"
     ]
    }
   ],
   "source": [
    "# Rule 3: temp_md & (hum_md || hum_lo) -> off\n",
    "hum_combined = np.fmax(hum_level_md, hum_level_lo)  # OR\n",
    "print(\"\\nhum_combined: \" + str(hum_combined))\n",
    "active_rule3 = np.fmin(temp_level_md, hum_combined)  # AND\n",
    "print(\"active_rule3: \" + str(active_rule3))\n",
    "sys_activation_off = np.fmin(active_rule3, sys_off)\n",
    "print(\"sys_activation_off: \" + str(sys_activation_off))\n",
    "results['active_rule3'] = active_rule3"
   ]
  },
  {
   "cell_type": "code",
   "execution_count": 21,
   "metadata": {},
   "outputs": [
    {
     "name": "stdout",
     "output_type": "stream",
     "text": [
      "\n",
      "active_rule4: 0.0\n",
      "sys_activation_cool1: [0. 0. 0. 0. 0. 0. 0. 0. 0. 0. 0. 0. 0. 0. 0. 0. 0. 0. 0. 0. 0. 0. 0. 0.]\n"
     ]
    }
   ],
   "source": [
    "# Rule 4: temp_hi & hum_lo -> cool1\n",
    " \n",
    "active_rule4 = np.fmin(temp_level_hi, hum_level_lo)  # AND\n",
    "print(\"\\nactive_rule4: \" + str(active_rule4))\n",
    " \n",
    "sys_activation_cool1 = np.fmin(active_rule4, sys_cool1)\n",
    "print(\"sys_activation_cool1: \" + str(sys_activation_cool1))\n",
    "results['active_rule4'] = active_rule4"
   ]
  },
  {
   "cell_type": "code",
   "execution_count": 22,
   "metadata": {},
   "outputs": [
    {
     "name": "stdout",
     "output_type": "stream",
     "text": [
      "\n",
      "hum_combined: 0.6666666666666666\n",
      "active_rule5: 0.0\n",
      "sys_activation_cool2: [0. 0. 0. 0. 0. 0. 0. 0. 0. 0. 0. 0. 0. 0. 0. 0. 0. 0. 0. 0. 0. 0. 0. 0.]\n"
     ]
    }
   ],
   "source": [
    "# Rule 5: temp_hi & (hum_md || hum_hi) -> cool2\n",
    "hum_combined = np.fmax(hum_level_md, hum_level_hi)  # OR\n",
    "print(\"\\nhum_combined: \" + str(hum_combined))\n",
    "active_rule5 = np.fmin(temp_level_hi, hum_combined)  # AND\n",
    "print(\"active_rule5: \" + str(active_rule5))\n",
    "sys_activation_cool2 = np.fmin(active_rule5, sys_cool2)\n",
    "print(\"sys_activation_cool2: \" + str(sys_activation_cool2))\n",
    "results['active_rule5'] = active_rule5"
   ]
  },
  {
   "cell_type": "code",
   "execution_count": 23,
   "metadata": {},
   "outputs": [
    {
     "name": "stdout",
     "output_type": "stream",
     "text": [
      "sys0: [0 0 0 0 0 0 0 0 0 0 0 0 0 0 0 0 0 0 0 0 0 0 0 0]\n",
      "\n",
      "aggregated: [0.  0.  0.  0.  0.  0.4 0.5 0.5 0.4 0.  0.  0.  0.  0.  0.  0.  0.  0.\n",
      " 0.  0.  0.  0.  0.  0. ]\n",
      "\n",
      "sys_temp: 18.5\n",
      "{'active_rule1': 0.0, 'active_rule2': 0.0, 'active_rule3': 0.5, 'active_rule4': 0.0, 'active_rule5': 0.0}\n"
     ]
    }
   ],
   "source": [
    "sys0 = np.zeros_like(x_sys)\n",
    "print(\"sys0: \" + str(sys0))\n",
    " \n",
    "# Aggregate all five output membership functions together\n",
    "aggregated = np.fmax(sys_activation_cool2, np.fmax(sys_activation_cool1, np.fmax(sys_activation_heat2,\n",
    "                     np.fmax(sys_activation_heat1, sys_activation_off))))\n",
    "print(\"\\naggregated: \" + str(aggregated))\n",
    "  \n",
    "# compute defuzzified result\n",
    "sys_temp = fuzz.defuzz(x_sys, aggregated, 'centroid')\n",
    "print(\"\\nsys_temp: \" + str(sys_temp))\n",
    " \n",
    "print(results)"
   ]
  },
  {
   "cell_type": "code",
   "execution_count": null,
   "metadata": {},
   "outputs": [],
   "source": []
  }
 ],
 "metadata": {
  "kernelspec": {
   "display_name": "Python 3",
   "language": "python",
   "name": "python3"
  },
  "language_info": {
   "codemirror_mode": {
    "name": "ipython",
    "version": 3
   },
   "file_extension": ".py",
   "mimetype": "text/x-python",
   "name": "python",
   "nbconvert_exporter": "python",
   "pygments_lexer": "ipython3",
   "version": "3.7.0"
  }
 },
 "nbformat": 4,
 "nbformat_minor": 2
}
